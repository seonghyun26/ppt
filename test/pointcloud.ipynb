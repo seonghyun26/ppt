{
 "cells": [
  {
   "cell_type": "code",
   "execution_count": 4,
   "metadata": {},
   "outputs": [],
   "source": [
    "import open3d as o3d\n",
    "import numpy as np"
   ]
  },
  {
   "cell_type": "code",
   "execution_count": 2,
   "metadata": {},
   "outputs": [
    {
     "name": "stdout",
     "output_type": "stream",
     "text": [
      "[Open3D INFO] Downloading https://github.com/isl-org/open3d_downloads/releases/download/20220201-data/DemoCropPointCloud.zip\n",
      "[Open3D INFO] Downloaded to /home/shpark/open3d_data/download/DemoCropPointCloud/DemoCropPointCloud.zip\n",
      "[Open3D INFO] Created directory /home/shpark/open3d_data/extract/DemoCropPointCloud.\n",
      "[Open3D INFO] Extracting /home/shpark/open3d_data/download/DemoCropPointCloud/DemoCropPointCloud.zip.\n",
      "[Open3D INFO] Extracted to /home/shpark/open3d_data/extract/DemoCropPointCloud.\n"
     ]
    }
   ],
   "source": [
    "demo_crop_data = o3d.data.DemoCropPointCloud()\n",
    "pcd = o3d.io.read_point_cloud(demo_crop_data.point_cloud_path)\n",
    "vol = o3d.visualization.read_selection_polygon_volume(demo_crop_data.cropped_json_path)\n",
    "chair = vol.crop_point_cloud(pcd)"
   ]
  },
  {
   "cell_type": "code",
   "execution_count": 15,
   "metadata": {},
   "outputs": [
    {
     "name": "stdout",
     "output_type": "stream",
     "text": [
      "31337\n",
      "[[2.50390625 1.55034339 1.59765625]\n",
      " [2.51171875 1.5507381  1.59765625]\n",
      " [2.50390625 1.54788673 1.60546875]\n",
      " ...\n",
      " [2.6754024  2.40234375 1.65234375]\n",
      " [2.6723876  2.40234375 1.66015625]\n",
      " [2.66796875 2.40234375 1.6619457 ]]\n",
      "196133\n",
      "[[0.65234375 0.84686458 2.37890625]\n",
      " [0.65234375 0.83984375 2.38430572]\n",
      " [0.66737998 0.83984375 2.37890625]\n",
      " ...\n",
      " [2.00839925 2.39453125 1.88671875]\n",
      " [2.00390625 2.39488506 1.88671875]\n",
      " [2.00390625 2.39453125 1.88793314]]\n",
      "196133\n",
      "[1.82659798 1.83171046 1.817216   ... 0.27083108 0.27181889 0.27301031]\n",
      "0.567234215707527\n"
     ]
    }
   ],
   "source": [
    "dists = pcd.compute_point_cloud_distance(chair)\n",
    "dists = np.asarray(dists)\n",
    "\n",
    "print(len(np.asarray(chair.points)))\n",
    "print(np.asarray(chair.points))\n",
    "\n",
    "print(len(np.asarray(pcd.points)))\n",
    "print(np.asarray(pcd.points))\n",
    "\n",
    "print(len(dists))\n",
    "print(dists)\n",
    "print(sum(dists)/len(dists))\n"
   ]
  },
  {
   "cell_type": "code",
   "execution_count": null,
   "metadata": {},
   "outputs": [],
   "source": [
    "import multiprocessing\n",
    "chair_distances = []\n",
    "compute_distance = lambda chair_point_cloud: np.asarray(pcd.compute_point_cloud_distance(chair_point_cloud))\n",
    "\n",
    "for chair_point_cloud in chair_point_clouds:\n",
    "  dists = compute_distance(chair_point_cloud)\n",
    "  chair_distances.append(dists)\n",
    "\n",
    "print(chair_distances)\n",
    "# Define the function to compute distance\n",
    "def compute_distance(chair_point_cloud):\n",
    "  return np.asarray(pcd.compute_point_cloud_distance(chair_point_cloud))\n",
    "\n",
    "# Create a pool of workers\n",
    "pool = multiprocessing.Pool()\n",
    "\n",
    "# Use the lambda function to compute distances in parallel\n",
    "chair_distances = pool.map(lambda chair_point_cloud: compute_distance(chair_point_cloud), chair_point_clouds)\n",
    "\n",
    "# Close the pool of workers\n",
    "pool.close()\n",
    "pool.join()\n",
    "\n",
    "print(chair_distances)\n"
   ]
  }
 ],
 "metadata": {
  "kernelspec": {
   "display_name": "gear",
   "language": "python",
   "name": "python3"
  },
  "language_info": {
   "codemirror_mode": {
    "name": "ipython",
    "version": 3
   },
   "file_extension": ".py",
   "mimetype": "text/x-python",
   "name": "python",
   "nbconvert_exporter": "python",
   "pygments_lexer": "ipython3",
   "version": "3.8.18"
  }
 },
 "nbformat": 4,
 "nbformat_minor": 2
}
