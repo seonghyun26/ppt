{
 "cells": [
  {
   "cell_type": "code",
   "execution_count": 21,
   "metadata": {},
   "outputs": [],
   "source": [
    "import numpy as np\n",
    "import open3d as o3d\n",
    "\n",
    "import torch"
   ]
  },
  {
   "cell_type": "code",
   "execution_count": 14,
   "metadata": {},
   "outputs": [
    {
     "name": "stdout",
     "output_type": "stream",
     "text": [
      "TriangleMesh with 762 points and 1520 triangles.\n",
      "[[ 0.          0.          1.        ]\n",
      " [ 0.          0.         -1.        ]\n",
      " [ 0.15643447  0.          0.98768834]\n",
      " ...\n",
      " [ 0.13938413 -0.07101976 -0.98768834]\n",
      " [ 0.14877802 -0.04834091 -0.98768834]\n",
      " [ 0.1545085  -0.02447174 -0.98768834]]\n"
     ]
    }
   ],
   "source": [
    "meshSphere = o3d.geometry.TriangleMesh.create_sphere()\n",
    "print(meshSphere)\n",
    "print(np.asarray(meshSphere.vertices))"
   ]
  },
  {
   "cell_type": "code",
   "execution_count": 24,
   "metadata": {},
   "outputs": [
    {
     "name": "stdout",
     "output_type": "stream",
     "text": [
      "torch.Size([1000, 3])\n",
      "tensor([[ 0.1032,  0.0281, -0.9916],\n",
      "        [ 0.1077,  0.1057, -0.9881],\n",
      "        [ 0.0126,  0.0511,  0.9958],\n",
      "        ...,\n",
      "        [ 0.1687, -0.1881, -0.9644],\n",
      "        [ 0.2003, -0.1145, -0.9697],\n",
      "        [ 0.2997, -0.0481, -0.9524]], dtype=torch.float64)\n"
     ]
    }
   ],
   "source": [
    "number_of_points = 1000\n",
    "sampled_points = meshSphere.sample_points_uniformly(number_of_points)\n",
    "sampled_points = torch.tensor(np.asarray(sampled_points.points))\n",
    "print(sampled_points.shape)\n",
    "print(sampled_points)"
   ]
  }
 ],
 "metadata": {
  "kernelspec": {
   "display_name": "gear",
   "language": "python",
   "name": "python3"
  },
  "language_info": {
   "codemirror_mode": {
    "name": "ipython",
    "version": 3
   },
   "file_extension": ".py",
   "mimetype": "text/x-python",
   "name": "python",
   "nbconvert_exporter": "python",
   "pygments_lexer": "ipython3",
   "version": "3.8.18"
  }
 },
 "nbformat": 4,
 "nbformat_minor": 2
}
